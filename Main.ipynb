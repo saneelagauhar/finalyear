{
 "cells": [
  {
   "cell_type": "code",
   "execution_count": 1,
   "metadata": {},
   "outputs": [],
   "source": [
    "from keras.layers import Input, Lambda, Dense, Flatten\n",
    "from keras.models import Model\n",
    "#from keras.applications.vgg16 import VGG16\n",
    "from keras.applications.vgg19 import VGG19\n",
    "from keras.applications.vgg16 import preprocess_input\n",
    "from keras.preprocessing import image\n",
    "from keras.preprocessing.image import ImageDataGenerator\n",
    "from keras.models import Sequential\n",
    "import numpy as np\n",
    "from glob import glob\n",
    "import matplotlib.pyplot as plt"
   ]
  },
  {
   "cell_type": "code",
   "execution_count": 2,
   "metadata": {},
   "outputs": [],
   "source": [
    "IMAGE_SIZE = [224, 224]\n",
    "\n",
    "train_path = 'Datasets/Train'\n",
    "valid_path = 'Datasets/Test'"
   ]
  },
  {
   "cell_type": "code",
   "execution_count": 3,
   "metadata": {},
   "outputs": [
    {
     "name": "stdout",
     "output_type": "stream",
     "text": [
      "Downloading data from https://storage.googleapis.com/tensorflow/keras-applications/vgg19/vgg19_weights_tf_dim_ordering_tf_kernels_notop.h5\n",
      "80142336/80134624 [==============================] - 18s 0us/step\n"
     ]
    }
   ],
   "source": [
    "vgg = VGG19(input_shape=IMAGE_SIZE + [3], weights='imagenet', include_top=False)"
   ]
  },
  {
   "cell_type": "code",
   "execution_count": 4,
   "metadata": {},
   "outputs": [],
   "source": [
    "for layer in vgg.layers:\n",
    "  layer.trainable = False"
   ]
  },
  {
   "cell_type": "code",
   "execution_count": 5,
   "metadata": {},
   "outputs": [],
   "source": [
    "folders = glob('Datasets/Train/*')"
   ]
  },
  {
   "cell_type": "code",
   "execution_count": 6,
   "metadata": {},
   "outputs": [],
   "source": [
    "x = Flatten()(vgg.output)"
   ]
  },
  {
   "cell_type": "code",
   "execution_count": 7,
   "metadata": {},
   "outputs": [],
   "source": [
    "\n",
    "prediction = Dense(len(folders), activation='softmax')(x)"
   ]
  },
  {
   "cell_type": "code",
   "execution_count": 8,
   "metadata": {},
   "outputs": [],
   "source": [
    "model = Model(inputs=vgg.input, outputs=prediction)"
   ]
  },
  {
   "cell_type": "code",
   "execution_count": 9,
   "metadata": {},
   "outputs": [
    {
     "name": "stdout",
     "output_type": "stream",
     "text": [
      "Model: \"model\"\n",
      "_________________________________________________________________\n",
      "Layer (type)                 Output Shape              Param #   \n",
      "=================================================================\n",
      "input_1 (InputLayer)         [(None, 224, 224, 3)]     0         \n",
      "_________________________________________________________________\n",
      "block1_conv1 (Conv2D)        (None, 224, 224, 64)      1792      \n",
      "_________________________________________________________________\n",
      "block1_conv2 (Conv2D)        (None, 224, 224, 64)      36928     \n",
      "_________________________________________________________________\n",
      "block1_pool (MaxPooling2D)   (None, 112, 112, 64)      0         \n",
      "_________________________________________________________________\n",
      "block2_conv1 (Conv2D)        (None, 112, 112, 128)     73856     \n",
      "_________________________________________________________________\n",
      "block2_conv2 (Conv2D)        (None, 112, 112, 128)     147584    \n",
      "_________________________________________________________________\n",
      "block2_pool (MaxPooling2D)   (None, 56, 56, 128)       0         \n",
      "_________________________________________________________________\n",
      "block3_conv1 (Conv2D)        (None, 56, 56, 256)       295168    \n",
      "_________________________________________________________________\n",
      "block3_conv2 (Conv2D)        (None, 56, 56, 256)       590080    \n",
      "_________________________________________________________________\n",
      "block3_conv3 (Conv2D)        (None, 56, 56, 256)       590080    \n",
      "_________________________________________________________________\n",
      "block3_conv4 (Conv2D)        (None, 56, 56, 256)       590080    \n",
      "_________________________________________________________________\n",
      "block3_pool (MaxPooling2D)   (None, 28, 28, 256)       0         \n",
      "_________________________________________________________________\n",
      "block4_conv1 (Conv2D)        (None, 28, 28, 512)       1180160   \n",
      "_________________________________________________________________\n",
      "block4_conv2 (Conv2D)        (None, 28, 28, 512)       2359808   \n",
      "_________________________________________________________________\n",
      "block4_conv3 (Conv2D)        (None, 28, 28, 512)       2359808   \n",
      "_________________________________________________________________\n",
      "block4_conv4 (Conv2D)        (None, 28, 28, 512)       2359808   \n",
      "_________________________________________________________________\n",
      "block4_pool (MaxPooling2D)   (None, 14, 14, 512)       0         \n",
      "_________________________________________________________________\n",
      "block5_conv1 (Conv2D)        (None, 14, 14, 512)       2359808   \n",
      "_________________________________________________________________\n",
      "block5_conv2 (Conv2D)        (None, 14, 14, 512)       2359808   \n",
      "_________________________________________________________________\n",
      "block5_conv3 (Conv2D)        (None, 14, 14, 512)       2359808   \n",
      "_________________________________________________________________\n",
      "block5_conv4 (Conv2D)        (None, 14, 14, 512)       2359808   \n",
      "_________________________________________________________________\n",
      "block5_pool (MaxPooling2D)   (None, 7, 7, 512)         0         \n",
      "_________________________________________________________________\n",
      "flatten (Flatten)            (None, 25088)             0         \n",
      "_________________________________________________________________\n",
      "dense (Dense)                (None, 2)                 50178     \n",
      "=================================================================\n",
      "Total params: 20,074,562\n",
      "Trainable params: 50,178\n",
      "Non-trainable params: 20,024,384\n",
      "_________________________________________________________________\n"
     ]
    }
   ],
   "source": [
    "model.summary()"
   ]
  },
  {
   "cell_type": "code",
   "execution_count": 10,
   "metadata": {},
   "outputs": [],
   "source": [
    "model.compile(\n",
    "  loss='categorical_crossentropy',\n",
    "  optimizer='adam',\n",
    "  metrics=['accuracy']\n",
    ")\n"
   ]
  },
  {
   "cell_type": "code",
   "execution_count": 11,
   "metadata": {},
   "outputs": [],
   "source": [
    "from keras.preprocessing.image import ImageDataGenerator\n",
    "\n",
    "train_datagen = ImageDataGenerator(rescale = 1./255,\n",
    "                                   shear_range = 0.2,\n",
    "                                   zoom_range = 0.2,\n",
    "                                   horizontal_flip = True)\n",
    "\n",
    "test_datagen = ImageDataGenerator(rescale = 1./255)"
   ]
  },
  {
   "cell_type": "code",
   "execution_count": 12,
   "metadata": {},
   "outputs": [
    {
     "name": "stdout",
     "output_type": "stream",
     "text": [
      "Found 1217 images belonging to 2 classes.\n"
     ]
    }
   ],
   "source": [
    "training_set = train_datagen.flow_from_directory('Datasets/Train',\n",
    "                                                 target_size = (224, 224),\n",
    "                                                 batch_size = 128,\n",
    "                                                 class_mode = 'categorical')"
   ]
  },
  {
   "cell_type": "code",
   "execution_count": 13,
   "metadata": {},
   "outputs": [
    {
     "name": "stdout",
     "output_type": "stream",
     "text": [
      "Found 220 images belonging to 2 classes.\n"
     ]
    }
   ],
   "source": [
    "test_set = test_datagen.flow_from_directory('Datasets/Test',\n",
    "                                            target_size = (224, 224),\n",
    "                                            batch_size = 32,\n",
    "                                            class_mode = 'categorical')"
   ]
  },
  {
   "cell_type": "code",
   "execution_count": null,
   "metadata": {},
   "outputs": [
    {
     "name": "stdout",
     "output_type": "stream",
     "text": [
      "Epoch 1/10\n",
      "10/10 [==============================] - 1751s 186s/step - loss: 0.1937 - accuracy: 0.9260 - val_loss: 0.3527 - val_accuracy: 0.8500\n",
      "Epoch 2/10\n",
      " 2/10 [=====>........................] - ETA: 19:09 - loss: 0.1447 - accuracy: 0.9531"
     ]
    }
   ],
   "source": [
    "r = model.fit_generator(\n",
    "  training_set,\n",
    "  validation_data=test_set,\n",
    "  epochs=10,\n",
    "  steps_per_epoch=len(training_set),\n",
    "  validation_steps=len(test_set)\n",
    ")"
   ]
  },
  {
   "cell_type": "code",
   "execution_count": 15,
   "metadata": {},
   "outputs": [
    {
     "data": {
      "image/png": "[encoded data removed]",
      "text/plain": [
       "<Figure size 432x288 with 1 Axes>"
      ]
     },
     "metadata": {
      "needs_background": "light"
     },
     "output_type": "display_data"
    },
    {
     "data": {
      "text/plain": [
       "<Figure size 432x288 with 0 Axes>"
      ]
     },
     "metadata": {},
     "output_type": "display_data"
    }
   ],
   "source": [
    "\n",
    "# loss\n",
    "plt.plot(r.history['loss'], label='train loss')\n",
    "plt.plot(r.history['val_loss'], label='val loss')\n",
    "plt.legend()\n",
    "plt.show()\n",
    "plt.savefig('LossVal_loss')\n",
    "\n"
   ]
  },
  {
   "cell_type": "code",
   "execution_count": 16,
   "metadata": {},
   "outputs": [
    {
     "data": {
      "image/png": "[encoded data removed]",
      "text/plain": [
       "<Figure size 432x288 with 1 Axes>"
      ]
     },
     "metadata": {
      "needs_background": "light"
     },
     "output_type": "display_data"
    },
    {
     "data": {
      "text/plain": [
       "<Figure size 432x288 with 0 Axes>"
      ]
     },
     "metadata": {},
     "output_type": "display_data"
    }
   ],
   "source": [
    "# accuracies\n",
    "plt.plot(r.history['accuracy'], label='train accuracy')\n",
    "plt.plot(r.history['val_accuracy'], label='val accuracy')\n",
    "plt.legend()\n",
    "plt.show()\n",
    "plt.savefig('AccVal_accuracy')"
   ]
  },
  {
   "cell_type": "code",
   "execution_count": 17,
   "metadata": {},
   "outputs": [],
   "source": [
    "import tensorflow as tf\n",
    "\n",
    "from keras.models import load_model\n",
    "\n",
    "model.save('brain_model_vgg19.h5')"
   ]
  },
  {
   "cell_type": "code",
   "execution_count": null,
   "metadata": {},
   "outputs": [],
   "source": []
  },
  {
   "cell_type": "code",
   "execution_count": 18,
   "metadata": {},
   "outputs": [],
   "source": [
    "y_pred = model.predict(test_set)"
   ]
  },
  {
   "cell_type": "code",
   "execution_count": 19,
   "metadata": {},
   "outputs": [
    {
     "data": {
      "text/plain": [
       "array([[9.88132775e-01, 1.18672317e-02],\n",
       "       [3.37595999e-01, 6.62404001e-01],\n",
       "       [5.79567015e-01, 4.20432955e-01],\n",
       "       [8.06148350e-01, 1.93851635e-01],\n",
       "       [1.81333832e-02, 9.81866658e-01],\n",
       "       [9.61649179e-01, 3.83508205e-02],\n",
       "       [5.28105021e-01, 4.71894920e-01],\n",
       "       [7.08527341e-02, 9.29147243e-01],\n",
       "       [4.90285724e-01, 5.09714246e-01],\n",
       "       [9.93777037e-01, 6.22296706e-03],\n",
       "       [1.51768789e-01, 8.48231196e-01],\n",
       "       [9.67699409e-01, 3.23005579e-02],\n",
       "       [3.60877886e-02, 9.63912189e-01],\n",
       "       [9.89233375e-01, 1.07665937e-02],\n",
       "       [3.33534032e-01, 6.66466057e-01],\n",
       "       [5.98526180e-01, 4.01473790e-01],\n",
       "       [9.90738869e-01, 9.26106330e-03],\n",
       "       [8.80270422e-01, 1.19729616e-01],\n",
       "       [9.81417000e-01, 1.85829494e-02],\n",
       "       [9.98345494e-01, 1.65455882e-03],\n",
       "       [1.70480497e-02, 9.82951939e-01],\n",
       "       [2.97632486e-01, 7.02367485e-01],\n",
       "       [6.45087361e-01, 3.54912549e-01],\n",
       "       [7.55396709e-02, 9.24460292e-01],\n",
       "       [5.76008111e-02, 9.42399204e-01],\n",
       "       [5.79046130e-01, 4.20953810e-01],\n",
       "       [4.14826900e-01, 5.85173070e-01],\n",
       "       [2.02226639e-01, 7.97773421e-01],\n",
       "       [9.46339488e-01, 5.36605231e-02],\n",
       "       [9.99130189e-01, 8.69873737e-04],\n",
       "       [9.91009235e-01, 8.99074599e-03],\n",
       "       [1.76423401e-01, 8.23576629e-01],\n",
       "       [1.50258094e-01, 8.49741936e-01],\n",
       "       [1.42607093e-02, 9.85739291e-01],\n",
       "       [1.80287398e-02, 9.81971204e-01],\n",
       "       [2.84497857e-01, 7.15502143e-01],\n",
       "       [9.56381977e-01, 4.36179973e-02],\n",
       "       [1.63507298e-01, 8.36492717e-01],\n",
       "       [7.20178150e-03, 9.92798209e-01],\n",
       "       [6.70897782e-01, 3.29102248e-01],\n",
       "       [9.99159455e-01, 8.40557273e-04],\n",
       "       [8.59308660e-01, 1.40691340e-01],\n",
       "       [8.27766359e-02, 9.17223394e-01],\n",
       "       [3.69899809e-01, 6.30100191e-01],\n",
       "       [9.77532923e-01, 2.24671103e-02],\n",
       "       [8.60747043e-03, 9.91392493e-01],\n",
       "       [2.70546764e-01, 7.29453266e-01],\n",
       "       [1.49189949e-01, 8.50810111e-01],\n",
       "       [7.24590778e-01, 2.75409132e-01],\n",
       "       [8.46053436e-02, 9.15394664e-01],\n",
       "       [2.69292325e-01, 7.30707645e-01],\n",
       "       [1.03852257e-01, 8.96147788e-01],\n",
       "       [2.50401974e-01, 7.49597967e-01],\n",
       "       [6.86061084e-02, 9.31393862e-01],\n",
       "       [9.61649179e-01, 3.83508205e-02],\n",
       "       [7.01711774e-01, 2.98288196e-01],\n",
       "       [6.85825229e-01, 3.14174831e-01],\n",
       "       [6.72887087e-01, 3.27112913e-01],\n",
       "       [9.93777037e-01, 6.22296706e-03],\n",
       "       [2.43244972e-02, 9.75675464e-01],\n",
       "       [9.60770667e-01, 3.92292850e-02],\n",
       "       [1.46825999e-01, 8.53173971e-01],\n",
       "       [8.20229352e-01, 1.79770604e-01],\n",
       "       [9.14660573e-01, 8.53395090e-02],\n",
       "       [2.03376010e-01, 7.96623945e-01],\n",
       "       [3.54823694e-02, 9.64517653e-01],\n",
       "       [9.60685849e-01, 3.93141657e-02],\n",
       "       [2.54551787e-03, 9.97454464e-01],\n",
       "       [9.57843542e-01, 4.21564691e-02],\n",
       "       [7.68962979e-01, 2.31037036e-01],\n",
       "       [7.40672112e-01, 2.59327829e-01],\n",
       "       [8.95524681e-01, 1.04475334e-01],\n",
       "       [6.46601385e-03, 9.93533969e-01],\n",
       "       [6.72278821e-01, 3.27721179e-01],\n",
       "       [9.45999920e-01, 5.40000461e-02],\n",
       "       [7.53918946e-01, 2.46081084e-01],\n",
       "       [9.54447865e-01, 4.55521308e-02],\n",
       "       [2.69894838e-01, 7.30105221e-01],\n",
       "       [3.79667878e-01, 6.20332181e-01],\n",
       "       [9.49291706e-01, 5.07083014e-02],\n",
       "       [3.31701964e-01, 6.68298066e-01],\n",
       "       [2.36894675e-02, 9.76310611e-01],\n",
       "       [9.50556219e-01, 4.94438373e-02],\n",
       "       [9.77532923e-01, 2.24671103e-02],\n",
       "       [9.30341780e-01, 6.96582049e-02],\n",
       "       [9.58758533e-01, 4.12415080e-02],\n",
       "       [1.39417946e-01, 8.60582054e-01],\n",
       "       [7.15511918e-01, 2.84488082e-01],\n",
       "       [9.93777037e-01, 6.22296706e-03],\n",
       "       [1.53260017e-02, 9.84673977e-01],\n",
       "       [9.65565264e-01, 3.44347246e-02],\n",
       "       [9.52822119e-02, 9.04717743e-01],\n",
       "       [3.06611478e-01, 6.93388522e-01],\n",
       "       [6.20622598e-02, 9.37937677e-01],\n",
       "       [4.37420249e-01, 5.62579751e-01],\n",
       "       [9.50867176e-01, 4.91328016e-02],\n",
       "       [7.90911794e-01, 2.09088236e-01],\n",
       "       [2.20742181e-01, 7.79257834e-01],\n",
       "       [2.50776187e-02, 9.74922299e-01],\n",
       "       [8.56410205e-01, 1.43589780e-01],\n",
       "       [2.23475266e-02, 9.77652431e-01],\n",
       "       [6.70907438e-01, 3.29092503e-01],\n",
       "       [9.45329666e-01, 5.46702892e-02],\n",
       "       [8.97932470e-01, 1.02067508e-01],\n",
       "       [3.47535429e-03, 9.96524632e-01],\n",
       "       [1.96250509e-02, 9.80374992e-01],\n",
       "       [7.91297913e-01, 2.08702073e-01],\n",
       "       [8.24475754e-03, 9.91755247e-01],\n",
       "       [4.94975336e-02, 9.50502455e-01],\n",
       "       [3.49459238e-02, 9.65054095e-01],\n",
       "       [2.04753637e-01, 7.95246363e-01],\n",
       "       [2.64970541e-01, 7.35029459e-01],\n",
       "       [2.75199920e-01, 7.24800050e-01],\n",
       "       [8.68494511e-01, 1.31505519e-01],\n",
       "       [8.98671210e-01, 1.01328745e-01],\n",
       "       [3.02231669e-01, 6.97768331e-01],\n",
       "       [9.77532923e-01, 2.24671103e-02],\n",
       "       [8.93860877e-01, 1.06139168e-01],\n",
       "       [8.27964023e-02, 9.17203546e-01],\n",
       "       [7.55396709e-02, 9.24460292e-01],\n",
       "       [7.89353669e-01, 2.10646361e-01],\n",
       "       [7.06238747e-01, 2.93761194e-01],\n",
       "       [1.99363101e-03, 9.98006403e-01],\n",
       "       [4.15245175e-01, 5.84754825e-01],\n",
       "       [9.45999920e-01, 5.40000461e-02],\n",
       "       [1.91027869e-03, 9.98089731e-01],\n",
       "       [5.68496324e-02, 9.43150401e-01],\n",
       "       [9.26581562e-01, 7.34183863e-02],\n",
       "       [1.72980815e-01, 8.27019215e-01],\n",
       "       [2.70149976e-01, 7.29850054e-01],\n",
       "       [9.45448816e-01, 5.45512289e-02],\n",
       "       [2.84497857e-01, 7.15502143e-01],\n",
       "       [6.79568797e-02, 9.32043135e-01],\n",
       "       [1.90177754e-01, 8.09822261e-01],\n",
       "       [1.17520690e-01, 8.82479250e-01],\n",
       "       [3.91113937e-01, 6.08886063e-01],\n",
       "       [6.73535615e-02, 9.32646394e-01],\n",
       "       [3.36726033e-03, 9.96632755e-01],\n",
       "       [5.68615198e-02, 9.43138421e-01],\n",
       "       [9.65051949e-01, 3.49479839e-02],\n",
       "       [7.28089690e-01, 2.71910340e-01],\n",
       "       [9.45999920e-01, 5.40000461e-02],\n",
       "       [4.75545004e-02, 9.52445447e-01],\n",
       "       [3.64186354e-02, 9.63581383e-01],\n",
       "       [6.13105953e-01, 3.86894047e-01],\n",
       "       [2.20742181e-01, 7.79257834e-01],\n",
       "       [2.96856090e-02, 9.70314443e-01],\n",
       "       [1.06066568e-02, 9.89393353e-01],\n",
       "       [7.89353669e-01, 2.10646361e-01],\n",
       "       [9.46685672e-01, 5.33143468e-02],\n",
       "       [7.71426916e-01, 2.28573099e-01],\n",
       "       [9.21451628e-01, 7.85484314e-02],\n",
       "       [9.00164127e-01, 9.98358801e-02],\n",
       "       [9.91009235e-01, 8.99075065e-03],\n",
       "       [8.97932470e-01, 1.02067508e-01],\n",
       "       [3.45037580e-01, 6.54962420e-01],\n",
       "       [4.75009829e-02, 9.52498972e-01],\n",
       "       [9.45999920e-01, 5.40000461e-02],\n",
       "       [1.99923277e-01, 8.00076783e-01],\n",
       "       [9.45329666e-01, 5.46703041e-02],\n",
       "       [2.20742181e-01, 7.79257834e-01],\n",
       "       [2.76805937e-01, 7.23194003e-01],\n",
       "       [9.93777037e-01, 6.22296706e-03],\n",
       "       [9.90341663e-01, 9.65833198e-03],\n",
       "       [4.53313798e-01, 5.46686232e-01],\n",
       "       [9.76307750e-01, 2.36922223e-02],\n",
       "       [9.60812271e-01, 3.91877368e-02],\n",
       "       [9.77263033e-01, 2.27369759e-02],\n",
       "       [1.92875534e-01, 8.07124436e-01],\n",
       "       [9.56506371e-01, 4.34935503e-02],\n",
       "       [5.06749928e-01, 4.93250042e-01],\n",
       "       [8.22186053e-01, 1.77813932e-01],\n",
       "       [4.88184035e-01, 5.11816025e-01],\n",
       "       [5.42635858e-01, 4.57364172e-01],\n",
       "       [8.28058839e-01, 1.71941131e-01],\n",
       "       [9.88965511e-01, 1.10345595e-02],\n",
       "       [9.70300853e-01, 2.96991039e-02],\n",
       "       [2.10533198e-02, 9.78946686e-01],\n",
       "       [6.64394438e-01, 3.35605592e-01],\n",
       "       [1.89953689e-02, 9.81004655e-01],\n",
       "       [7.46335566e-01, 2.53664464e-01],\n",
       "       [9.07972395e-01, 9.20275599e-02],\n",
       "       [5.79863274e-03, 9.94201362e-01],\n",
       "       [9.45999920e-01, 5.40000461e-02],\n",
       "       [4.56018038e-02, 9.54398155e-01],\n",
       "       [9.45329666e-01, 5.46702892e-02],\n",
       "       [9.96380746e-01, 3.61923943e-03],\n",
       "       [7.68962979e-01, 2.31037036e-01],\n",
       "       [3.06611478e-01, 6.93388522e-01],\n",
       "       [3.58868651e-02, 9.64113176e-01],\n",
       "       [8.47799033e-02, 9.15220082e-01],\n",
       "       [9.96380746e-01, 3.61924106e-03],\n",
       "       [7.81781256e-01, 2.18218803e-01],\n",
       "       [9.83516037e-01, 1.64839849e-02],\n",
       "       [5.56958675e-01, 4.43041325e-01],\n",
       "       [9.60057259e-01, 3.99427265e-02],\n",
       "       [2.29055211e-02, 9.77094471e-01],\n",
       "       [7.00067341e-01, 2.99932659e-01],\n",
       "       [3.74617517e-01, 6.25382483e-01],\n",
       "       [9.90544081e-01, 9.45591275e-03],\n",
       "       [1.40686659e-02, 9.85931277e-01],\n",
       "       [7.95210183e-01, 2.04789788e-01],\n",
       "       [9.67763841e-01, 3.22361253e-02],\n",
       "       [9.38050330e-01, 6.19497113e-02],\n",
       "       [2.92097144e-02, 9.70790327e-01],\n",
       "       [9.60057259e-01, 3.99427265e-02],\n",
       "       [9.84593987e-01, 1.54059734e-02],\n",
       "       [9.00959134e-01, 9.90408510e-02],\n",
       "       [4.53313798e-01, 5.46686232e-01],\n",
       "       [1.21345092e-02, 9.87865508e-01],\n",
       "       [7.82696545e-01, 2.17303455e-01],\n",
       "       [3.17375809e-02, 9.68262374e-01],\n",
       "       [5.41741736e-02, 9.45825875e-01],\n",
       "       [5.44013567e-02, 9.45598662e-01],\n",
       "       [8.59073043e-01, 1.40926957e-01],\n",
       "       [9.88132775e-01, 1.18672317e-02],\n",
       "       [9.45329666e-01, 5.46702892e-02],\n",
       "       [1.62722722e-01, 8.37277234e-01],\n",
       "       [7.22044528e-01, 2.77955443e-01],\n",
       "       [9.24653769e-01, 7.53462017e-02]], dtype=float32)"
      ]
     },
     "execution_count": 19,
     "metadata": {},
     "output_type": "execute_result"
    }
   ],
   "source": [
    "y_pred"
   ]
  },
  {
   "cell_type": "code",
   "execution_count": 20,
   "metadata": {},
   "outputs": [],
   "source": [
    "import numpy as np\n",
    "y_pred = np.argmax(y_pred, axis=0)"
   ]
  },
  {
   "cell_type": "code",
   "execution_count": 21,
   "metadata": {},
   "outputs": [
    {
     "data": {
      "text/plain": [
       "array([ 40, 125], dtype=int64)"
      ]
     },
     "execution_count": 21,
     "metadata": {},
     "output_type": "execute_result"
    }
   ],
   "source": [
    "y_pred"
   ]
  },
  {
   "cell_type": "code",
   "execution_count": 22,
   "metadata": {},
   "outputs": [],
   "source": [
    "\n",
    "from tensorflow.keras.models import load_model\n",
    "from tensorflow.keras.preprocessing import image"
   ]
  },
  {
   "cell_type": "code",
   "execution_count": 23,
   "metadata": {},
   "outputs": [
    {
     "ename": "OSError",
     "evalue": "SavedModel file does not exist at: model_resnet50.h5/{saved_model.pbtxt|saved_model.pb}",
     "output_type": "error",
     "traceback": [
      "\u001b[1;31m---------------------------------------------------------------------------\u001b[0m",
      "\u001b[1;31mOSError\u001b[0m                                   Traceback (most recent call last)",
      "\u001b[1;32m<ipython-input-23-9887cbb7b739>\u001b[0m in \u001b[0;36m<module>\u001b[1;34m\u001b[0m\n\u001b[1;32m----> 1\u001b[1;33m \u001b[0mmodel\u001b[0m\u001b[1;33m=\u001b[0m\u001b[0mload_model\u001b[0m\u001b[1;33m(\u001b[0m\u001b[1;34m'model_resnet50.h5'\u001b[0m\u001b[1;33m)\u001b[0m\u001b[1;33m\u001b[0m\u001b[1;33m\u001b[0m\u001b[0m\n\u001b[0m",
      "\u001b[1;32m~\\anaconda3\\lib\\site-packages\\tensorflow\\python\\keras\\saving\\save.py\u001b[0m in \u001b[0;36mload_model\u001b[1;34m(filepath, custom_objects, compile, options)\u001b[0m\n\u001b[0;32m    209\u001b[0m       \u001b[0mfilepath\u001b[0m \u001b[1;33m=\u001b[0m \u001b[0mpath_to_string\u001b[0m\u001b[1;33m(\u001b[0m\u001b[0mfilepath\u001b[0m\u001b[1;33m)\u001b[0m\u001b[1;33m\u001b[0m\u001b[1;33m\u001b[0m\u001b[0m\n\u001b[0;32m    210\u001b[0m       \u001b[1;32mif\u001b[0m \u001b[0misinstance\u001b[0m\u001b[1;33m(\u001b[0m\u001b[0mfilepath\u001b[0m\u001b[1;33m,\u001b[0m \u001b[0msix\u001b[0m\u001b[1;33m.\u001b[0m\u001b[0mstring_types\u001b[0m\u001b[1;33m)\u001b[0m\u001b[1;33m:\u001b[0m\u001b[1;33m\u001b[0m\u001b[1;33m\u001b[0m\u001b[0m\n\u001b[1;32m--> 211\u001b[1;33m         \u001b[0mloader_impl\u001b[0m\u001b[1;33m.\u001b[0m\u001b[0mparse_saved_model\u001b[0m\u001b[1;33m(\u001b[0m\u001b[0mfilepath\u001b[0m\u001b[1;33m)\u001b[0m\u001b[1;33m\u001b[0m\u001b[1;33m\u001b[0m\u001b[0m\n\u001b[0m\u001b[0;32m    212\u001b[0m         \u001b[1;32mreturn\u001b[0m \u001b[0msaved_model_load\u001b[0m\u001b[1;33m.\u001b[0m\u001b[0mload\u001b[0m\u001b[1;33m(\u001b[0m\u001b[0mfilepath\u001b[0m\u001b[1;33m,\u001b[0m \u001b[0mcompile\u001b[0m\u001b[1;33m,\u001b[0m \u001b[0moptions\u001b[0m\u001b[1;33m)\u001b[0m\u001b[1;33m\u001b[0m\u001b[1;33m\u001b[0m\u001b[0m\n\u001b[0;32m    213\u001b[0m \u001b[1;33m\u001b[0m\u001b[0m\n",
      "\u001b[1;32m~\\anaconda3\\lib\\site-packages\\tensorflow\\python\\saved_model\\loader_impl.py\u001b[0m in \u001b[0;36mparse_saved_model\u001b[1;34m(export_dir)\u001b[0m\n\u001b[0;32m    109\u001b[0m       \u001b[1;32mraise\u001b[0m \u001b[0mIOError\u001b[0m\u001b[1;33m(\u001b[0m\u001b[1;34m\"Cannot parse file %s: %s.\"\u001b[0m \u001b[1;33m%\u001b[0m \u001b[1;33m(\u001b[0m\u001b[0mpath_to_pbtxt\u001b[0m\u001b[1;33m,\u001b[0m \u001b[0mstr\u001b[0m\u001b[1;33m(\u001b[0m\u001b[0me\u001b[0m\u001b[1;33m)\u001b[0m\u001b[1;33m)\u001b[0m\u001b[1;33m)\u001b[0m\u001b[1;33m\u001b[0m\u001b[1;33m\u001b[0m\u001b[0m\n\u001b[0;32m    110\u001b[0m   \u001b[1;32melse\u001b[0m\u001b[1;33m:\u001b[0m\u001b[1;33m\u001b[0m\u001b[1;33m\u001b[0m\u001b[0m\n\u001b[1;32m--> 111\u001b[1;33m     raise IOError(\"SavedModel file does not exist at: %s/{%s|%s}\" %\n\u001b[0m\u001b[0;32m    112\u001b[0m                   (export_dir,\n\u001b[0;32m    113\u001b[0m                    \u001b[0mconstants\u001b[0m\u001b[1;33m.\u001b[0m\u001b[0mSAVED_MODEL_FILENAME_PBTXT\u001b[0m\u001b[1;33m,\u001b[0m\u001b[1;33m\u001b[0m\u001b[1;33m\u001b[0m\u001b[0m\n",
      "\u001b[1;31mOSError\u001b[0m: SavedModel file does not exist at: model_resnet50.h5/{saved_model.pbtxt|saved_model.pb}"
     ]
    }
   ],
   "source": [
    "model=load_model('model_resnet50.h5')"
   ]
  },
  {
   "cell_type": "code",
   "execution_count": null,
   "metadata": {},
   "outputs": [],
   "source": [
    "img=image.load_img('Datasets/Test/Autistic/002.jpg',target_size=(224,224))"
   ]
  },
  {
   "cell_type": "code",
   "execution_count": null,
   "metadata": {},
   "outputs": [],
   "source": [
    "\n",
    "x=image.img_to_array(img)\n",
    "x"
   ]
  }
 ],
 "metadata": {
  "kernelspec": {
   "display_name": "Python 3",
   "language": "python",
   "name": "python3"
  },
  "language_info": {
   "codemirror_mode": {
    "name": "ipython",
    "version": 3
   },
   "file_extension": ".py",
   "mimetype": "text/x-python",
   "name": "python",
   "nbconvert_exporter": "python",
   "pygments_lexer": "ipython3",
   "version": "3.8.5"
  }
 },
 "nbformat": 4,
 "nbformat_minor": 5
}
